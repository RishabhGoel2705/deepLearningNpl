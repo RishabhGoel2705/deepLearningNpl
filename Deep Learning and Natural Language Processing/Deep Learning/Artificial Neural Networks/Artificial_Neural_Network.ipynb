{
 "cells": [
  {
   "cell_type": "markdown",
   "metadata": {
    "colab_type": "text",
    "id": "3cbb7fRy-eyr"
   },
   "source": [
    "# Artificial Neural Network"
   ]
  },
  {
   "cell_type": "markdown",
   "metadata": {
    "colab_type": "text",
    "id": "8sNDnxE2-pwE"
   },
   "source": [
    "### Importing the libraries"
   ]
  },
  {
   "cell_type": "code",
   "execution_count": 0,
   "metadata": {
    "colab": {},
    "colab_type": "code",
    "id": "eCItU1pcy_Op"
   },
   "outputs": [],
   "source": [
    "import numpy as np\n",
    "import pandas as pd\n",
    "import tensorflow as tf"
   ]
  },
  {
   "cell_type": "code",
   "execution_count": 2,
   "metadata": {
    "colab": {
     "base_uri": "https://localhost:8080/",
     "height": 34
    },
    "colab_type": "code",
    "id": "5VByyH4WzNF6",
    "outputId": "fc83d71e-7569-4ce6-ec41-34af1913efb3"
   },
   "outputs": [
    {
     "data": {
      "text/plain": [
       "'2.2.0'"
      ]
     },
     "execution_count": 2,
     "metadata": {
      "tags": []
     },
     "output_type": "execute_result"
    }
   ],
   "source": [
    "tf.__version__"
   ]
  },
  {
   "cell_type": "markdown",
   "metadata": {
    "colab_type": "text",
    "id": "AG3FQEch-yuA"
   },
   "source": [
    "## Part 1 - Data Preprocessing"
   ]
  },
  {
   "cell_type": "markdown",
   "metadata": {
    "colab_type": "text",
    "id": "-4zq8Mza_D9O"
   },
   "source": [
    "### Importing the dataset"
   ]
  },
  {
   "cell_type": "code",
   "execution_count": 0,
   "metadata": {
    "colab": {},
    "colab_type": "code",
    "id": "QxeOeS49zSj-"
   },
   "outputs": [],
   "source": [
    "dataset=pd.read_excel('Folds5x2_pp.xlsx')\n",
    "X=dataset.iloc[:,:-1].values\n",
    "Y=dataset.iloc[:,-1].values"
   ]
  },
  {
   "cell_type": "code",
   "execution_count": 4,
   "metadata": {
    "colab": {
     "base_uri": "https://localhost:8080/",
     "height": 136
    },
    "colab_type": "code",
    "id": "Ets-0Cgi0Uem",
    "outputId": "4aa031f7-55b0-4f04-f3d7-e574615f5068"
   },
   "outputs": [
    {
     "name": "stdout",
     "output_type": "stream",
     "text": [
      "[[  14.96   41.76 1024.07   73.17]\n",
      " [  25.18   62.96 1020.04   59.08]\n",
      " [   5.11   39.4  1012.16   92.14]\n",
      " ...\n",
      " [  31.32   74.33 1012.92   36.48]\n",
      " [  24.48   69.45 1013.86   62.39]\n",
      " [  21.6    62.52 1017.23   67.87]]\n"
     ]
    }
   ],
   "source": [
    "print(X)"
   ]
  },
  {
   "cell_type": "code",
   "execution_count": 5,
   "metadata": {
    "colab": {
     "base_uri": "https://localhost:8080/",
     "height": 34
    },
    "colab_type": "code",
    "id": "RwqpKwqw0U7N",
    "outputId": "e8b43833-4abe-4223-9a94-64c4293f1921"
   },
   "outputs": [
    {
     "name": "stdout",
     "output_type": "stream",
     "text": [
      "[463.26 444.37 488.56 ... 429.57 435.74 453.28]\n"
     ]
    }
   ],
   "source": [
    "print(Y)"
   ]
  },
  {
   "cell_type": "markdown",
   "metadata": {
    "colab_type": "text",
    "id": "VC6omXel_Up0"
   },
   "source": [
    "### Splitting the dataset into the Training set and Test set"
   ]
  },
  {
   "cell_type": "code",
   "execution_count": 0,
   "metadata": {
    "colab": {},
    "colab_type": "code",
    "id": "I7OHt-s62mll"
   },
   "outputs": [],
   "source": [
    "from sklearn.model_selection import train_test_split\n",
    "X_train,X_test,Y_train,Y_test=train_test_split(X,Y,test_size=0.2,random_state=0) "
   ]
  },
  {
   "cell_type": "markdown",
   "metadata": {
    "colab_type": "text",
    "id": "_mSLlAT9_eyI"
   },
   "source": [
    "## Part 2 - Building the ANN"
   ]
  },
  {
   "cell_type": "markdown",
   "metadata": {
    "colab_type": "text",
    "id": "CsBULd_f_wLY"
   },
   "source": [
    "### Initializing the ANN"
   ]
  },
  {
   "cell_type": "code",
   "execution_count": 0,
   "metadata": {
    "colab": {},
    "colab_type": "code",
    "id": "ldb8G-yF3H0h"
   },
   "outputs": [],
   "source": [
    "ann=tf.keras.models.Sequential()"
   ]
  },
  {
   "cell_type": "markdown",
   "metadata": {
    "colab_type": "text",
    "id": "iitAFJS_ABUn"
   },
   "source": [
    "### Adding the input layer and the first hidden layer"
   ]
  },
  {
   "cell_type": "code",
   "execution_count": 0,
   "metadata": {
    "colab": {},
    "colab_type": "code",
    "id": "9u3gFEmN3VIG"
   },
   "outputs": [],
   "source": [
    "ann.add(tf.keras.layers.Dense(units=8,activation='relu'))"
   ]
  },
  {
   "cell_type": "markdown",
   "metadata": {
    "colab_type": "text",
    "id": "-lb4kK_wAKbs"
   },
   "source": [
    "### Adding the second hidden layer"
   ]
  },
  {
   "cell_type": "code",
   "execution_count": 0,
   "metadata": {
    "colab": {},
    "colab_type": "code",
    "id": "1oRsMr_l35QC"
   },
   "outputs": [],
   "source": [
    "ann.add(tf.keras.layers.Dense(units=8,activation='relu'))"
   ]
  },
  {
   "cell_type": "markdown",
   "metadata": {
    "colab_type": "text",
    "id": "jwMOmKb3AdBY"
   },
   "source": [
    "### Adding the output layer"
   ]
  },
  {
   "cell_type": "code",
   "execution_count": 0,
   "metadata": {
    "colab": {},
    "colab_type": "code",
    "id": "1D51zj1E39-7"
   },
   "outputs": [],
   "source": [
    "ann.add(tf.keras.layers.Dense(units=1))"
   ]
  },
  {
   "cell_type": "markdown",
   "metadata": {
    "colab_type": "text",
    "id": "fq7e4fF6A1yy"
   },
   "source": [
    "## Part 3 - Training the ANN"
   ]
  },
  {
   "cell_type": "markdown",
   "metadata": {
    "colab_type": "text",
    "id": "qDeylAs2An25"
   },
   "source": [
    "### Compiling the ANN"
   ]
  },
  {
   "cell_type": "code",
   "execution_count": 0,
   "metadata": {
    "colab": {},
    "colab_type": "code",
    "id": "x1CFGnAv5G0i"
   },
   "outputs": [],
   "source": [
    "ann.compile(optimizer='adam',loss='mean_squared_error')"
   ]
  },
  {
   "cell_type": "markdown",
   "metadata": {
    "colab_type": "text",
    "id": "YjVuiybYOo7r"
   },
   "source": [
    "### Training the ANN model on the Training set"
   ]
  },
  {
   "cell_type": "code",
   "execution_count": 12,
   "metadata": {
    "colab": {
     "base_uri": "https://localhost:8080/",
     "height": 1000
    },
    "colab_type": "code",
    "id": "aiE4XXkj5sVs",
    "outputId": "bbdfede9-d3d4-4f87-96a1-b6c5287c9dc1"
   },
   "outputs": [
    {
     "name": "stdout",
     "output_type": "stream",
     "text": [
      "Epoch 1/100\n",
      "240/240 [==============================] - 0s 1ms/step - loss: 12370.6670\n",
      "Epoch 2/100\n",
      "240/240 [==============================] - 0s 1ms/step - loss: 299.8664\n",
      "Epoch 3/100\n",
      "240/240 [==============================] - 0s 1ms/step - loss: 268.4680\n",
      "Epoch 4/100\n",
      "240/240 [==============================] - 0s 1ms/step - loss: 232.8467\n",
      "Epoch 5/100\n",
      "240/240 [==============================] - 0s 1ms/step - loss: 195.5256\n",
      "Epoch 6/100\n",
      "240/240 [==============================] - 0s 1ms/step - loss: 159.3200\n",
      "Epoch 7/100\n",
      "240/240 [==============================] - 0s 1ms/step - loss: 126.1634\n",
      "Epoch 8/100\n",
      "240/240 [==============================] - 0s 1ms/step - loss: 97.7243\n",
      "Epoch 9/100\n",
      "240/240 [==============================] - 0s 1ms/step - loss: 74.4452\n",
      "Epoch 10/100\n",
      "240/240 [==============================] - 0s 1ms/step - loss: 57.3384\n",
      "Epoch 11/100\n",
      "240/240 [==============================] - 0s 1ms/step - loss: 45.3534\n",
      "Epoch 12/100\n",
      "240/240 [==============================] - 0s 1ms/step - loss: 37.4779\n",
      "Epoch 13/100\n",
      "240/240 [==============================] - 0s 1ms/step - loss: 33.2287\n",
      "Epoch 14/100\n",
      "240/240 [==============================] - 0s 1ms/step - loss: 31.0125\n",
      "Epoch 15/100\n",
      "240/240 [==============================] - 0s 1ms/step - loss: 30.0315\n",
      "Epoch 16/100\n",
      "240/240 [==============================] - 0s 1ms/step - loss: 29.4926\n",
      "Epoch 17/100\n",
      "240/240 [==============================] - 0s 1ms/step - loss: 29.4046\n",
      "Epoch 18/100\n",
      "240/240 [==============================] - 0s 1ms/step - loss: 29.2874\n",
      "Epoch 19/100\n",
      "240/240 [==============================] - 0s 1ms/step - loss: 29.0256\n",
      "Epoch 20/100\n",
      "240/240 [==============================] - 0s 1ms/step - loss: 29.0919\n",
      "Epoch 21/100\n",
      "240/240 [==============================] - 0s 1ms/step - loss: 28.5533\n",
      "Epoch 22/100\n",
      "240/240 [==============================] - 0s 1ms/step - loss: 28.4448\n",
      "Epoch 23/100\n",
      "240/240 [==============================] - 0s 1ms/step - loss: 28.9444\n",
      "Epoch 24/100\n",
      "240/240 [==============================] - 0s 1ms/step - loss: 28.4886\n",
      "Epoch 25/100\n",
      "240/240 [==============================] - 0s 1ms/step - loss: 28.5365\n",
      "Epoch 26/100\n",
      "240/240 [==============================] - 0s 1ms/step - loss: 27.8756\n",
      "Epoch 27/100\n",
      "240/240 [==============================] - 0s 1ms/step - loss: 28.2172\n",
      "Epoch 28/100\n",
      "240/240 [==============================] - 0s 1ms/step - loss: 27.6830\n",
      "Epoch 29/100\n",
      "240/240 [==============================] - 0s 1ms/step - loss: 28.9297\n",
      "Epoch 30/100\n",
      "240/240 [==============================] - 0s 1ms/step - loss: 28.5613\n",
      "Epoch 31/100\n",
      "240/240 [==============================] - 0s 1ms/step - loss: 28.2826\n",
      "Epoch 32/100\n",
      "240/240 [==============================] - 0s 1ms/step - loss: 28.4306\n",
      "Epoch 33/100\n",
      "240/240 [==============================] - 0s 1ms/step - loss: 28.4268\n",
      "Epoch 34/100\n",
      "240/240 [==============================] - 0s 1ms/step - loss: 28.0592\n",
      "Epoch 35/100\n",
      "240/240 [==============================] - 0s 1ms/step - loss: 27.1532\n",
      "Epoch 36/100\n",
      "240/240 [==============================] - 0s 1ms/step - loss: 28.1065\n",
      "Epoch 37/100\n",
      "240/240 [==============================] - 0s 1ms/step - loss: 28.1939\n",
      "Epoch 38/100\n",
      "240/240 [==============================] - 0s 1ms/step - loss: 27.5679\n",
      "Epoch 39/100\n",
      "240/240 [==============================] - 0s 1ms/step - loss: 27.5562\n",
      "Epoch 40/100\n",
      "240/240 [==============================] - 0s 1ms/step - loss: 28.8119\n",
      "Epoch 41/100\n",
      "240/240 [==============================] - 0s 1ms/step - loss: 28.0031\n",
      "Epoch 42/100\n",
      "240/240 [==============================] - 0s 1ms/step - loss: 27.7232\n",
      "Epoch 43/100\n",
      "240/240 [==============================] - 0s 1ms/step - loss: 27.7977\n",
      "Epoch 44/100\n",
      "240/240 [==============================] - 0s 1ms/step - loss: 28.5300\n",
      "Epoch 45/100\n",
      "240/240 [==============================] - 0s 1ms/step - loss: 27.4858\n",
      "Epoch 46/100\n",
      "240/240 [==============================] - 0s 1ms/step - loss: 27.7831\n",
      "Epoch 47/100\n",
      "240/240 [==============================] - 0s 1ms/step - loss: 29.0171\n",
      "Epoch 48/100\n",
      "240/240 [==============================] - 0s 1ms/step - loss: 28.3827\n",
      "Epoch 49/100\n",
      "240/240 [==============================] - 0s 1ms/step - loss: 28.0333\n",
      "Epoch 50/100\n",
      "240/240 [==============================] - 0s 1ms/step - loss: 28.5954\n",
      "Epoch 51/100\n",
      "240/240 [==============================] - 0s 1ms/step - loss: 27.5251\n",
      "Epoch 52/100\n",
      "240/240 [==============================] - 0s 1ms/step - loss: 28.3559\n",
      "Epoch 53/100\n",
      "240/240 [==============================] - 0s 1ms/step - loss: 28.6436\n",
      "Epoch 54/100\n",
      "240/240 [==============================] - 0s 1ms/step - loss: 27.9879\n",
      "Epoch 55/100\n",
      "240/240 [==============================] - 0s 1ms/step - loss: 27.0153\n",
      "Epoch 56/100\n",
      "240/240 [==============================] - 0s 1ms/step - loss: 26.9182\n",
      "Epoch 57/100\n",
      "240/240 [==============================] - 0s 1ms/step - loss: 27.5025\n",
      "Epoch 58/100\n",
      "240/240 [==============================] - 0s 1ms/step - loss: 28.0361\n",
      "Epoch 59/100\n",
      "240/240 [==============================] - 0s 1ms/step - loss: 27.1662\n",
      "Epoch 60/100\n",
      "240/240 [==============================] - 0s 1ms/step - loss: 28.5441\n",
      "Epoch 61/100\n",
      "240/240 [==============================] - 0s 1ms/step - loss: 28.0471\n",
      "Epoch 62/100\n",
      "240/240 [==============================] - 0s 1ms/step - loss: 27.9271\n",
      "Epoch 63/100\n",
      "240/240 [==============================] - 0s 1ms/step - loss: 27.7085\n",
      "Epoch 64/100\n",
      "240/240 [==============================] - 0s 1ms/step - loss: 27.7840\n",
      "Epoch 65/100\n",
      "240/240 [==============================] - 0s 1ms/step - loss: 27.7043\n",
      "Epoch 66/100\n",
      "240/240 [==============================] - 0s 1ms/step - loss: 28.0724\n",
      "Epoch 67/100\n",
      "240/240 [==============================] - 0s 1ms/step - loss: 29.0148\n",
      "Epoch 68/100\n",
      "240/240 [==============================] - 0s 1ms/step - loss: 27.3173\n",
      "Epoch 69/100\n",
      "240/240 [==============================] - 0s 1ms/step - loss: 28.1953\n",
      "Epoch 70/100\n",
      "240/240 [==============================] - 0s 1ms/step - loss: 27.2742\n",
      "Epoch 71/100\n",
      "240/240 [==============================] - 0s 1ms/step - loss: 27.2474\n",
      "Epoch 72/100\n",
      "240/240 [==============================] - 0s 1ms/step - loss: 27.4920\n",
      "Epoch 73/100\n",
      "240/240 [==============================] - 0s 1ms/step - loss: 27.8881\n",
      "Epoch 74/100\n",
      "240/240 [==============================] - 0s 1ms/step - loss: 27.7032\n",
      "Epoch 75/100\n",
      "240/240 [==============================] - 0s 1ms/step - loss: 28.5147\n",
      "Epoch 76/100\n",
      "240/240 [==============================] - 0s 1ms/step - loss: 28.1017\n",
      "Epoch 77/100\n",
      "240/240 [==============================] - 0s 1ms/step - loss: 28.1783\n",
      "Epoch 78/100\n",
      "240/240 [==============================] - 0s 1ms/step - loss: 27.6378\n",
      "Epoch 79/100\n",
      "240/240 [==============================] - 0s 1ms/step - loss: 28.6738\n",
      "Epoch 80/100\n",
      "240/240 [==============================] - 0s 1ms/step - loss: 28.3529\n",
      "Epoch 81/100\n",
      "240/240 [==============================] - 0s 1ms/step - loss: 27.3513\n",
      "Epoch 82/100\n",
      "240/240 [==============================] - 0s 1ms/step - loss: 27.5854\n",
      "Epoch 83/100\n",
      "240/240 [==============================] - 0s 1ms/step - loss: 27.7236\n",
      "Epoch 84/100\n",
      "240/240 [==============================] - 0s 1ms/step - loss: 27.4750\n",
      "Epoch 85/100\n",
      "240/240 [==============================] - 0s 1ms/step - loss: 28.1501\n",
      "Epoch 86/100\n",
      "240/240 [==============================] - 0s 1ms/step - loss: 28.3844\n",
      "Epoch 87/100\n",
      "240/240 [==============================] - 0s 1ms/step - loss: 27.5466\n",
      "Epoch 88/100\n",
      "240/240 [==============================] - 0s 1ms/step - loss: 28.0073\n",
      "Epoch 89/100\n",
      "240/240 [==============================] - 0s 1ms/step - loss: 27.6988\n",
      "Epoch 90/100\n",
      "240/240 [==============================] - 0s 1ms/step - loss: 27.9164\n",
      "Epoch 91/100\n",
      "240/240 [==============================] - 0s 1ms/step - loss: 29.0712\n",
      "Epoch 92/100\n",
      "240/240 [==============================] - 0s 1ms/step - loss: 28.5290\n",
      "Epoch 93/100\n",
      "240/240 [==============================] - 0s 1ms/step - loss: 27.9085\n",
      "Epoch 94/100\n",
      "240/240 [==============================] - 0s 1ms/step - loss: 27.6195\n",
      "Epoch 95/100\n",
      "240/240 [==============================] - 0s 1ms/step - loss: 27.4637\n",
      "Epoch 96/100\n",
      "240/240 [==============================] - 0s 1ms/step - loss: 29.5864\n",
      "Epoch 97/100\n",
      "240/240 [==============================] - 0s 1ms/step - loss: 26.9542\n",
      "Epoch 98/100\n",
      "240/240 [==============================] - 0s 1ms/step - loss: 27.2690\n",
      "Epoch 99/100\n",
      "240/240 [==============================] - 0s 1ms/step - loss: 28.0800\n",
      "Epoch 100/100\n",
      "240/240 [==============================] - 0s 1ms/step - loss: 27.5891\n"
     ]
    },
    {
     "data": {
      "text/plain": [
       "<tensorflow.python.keras.callbacks.History at 0x7f38af7fa160>"
      ]
     },
     "execution_count": 12,
     "metadata": {
      "tags": []
     },
     "output_type": "execute_result"
    }
   ],
   "source": [
    "ann.fit(X_train,Y_train,batch_size=32,epochs=100)"
   ]
  },
  {
   "cell_type": "markdown",
   "metadata": {
    "colab_type": "text",
    "id": "0H0zKKNEBLD5"
   },
   "source": [
    "### Predicting the results of the Test set"
   ]
  },
  {
   "cell_type": "code",
   "execution_count": 13,
   "metadata": {
    "colab": {
     "base_uri": "https://localhost:8080/",
     "height": 136
    },
    "colab_type": "code",
    "id": "eAwsoP566POz",
    "outputId": "86f6ed5f-350b-4fa6-bb70-307e08d93143"
   },
   "outputs": [
    {
     "name": "stdout",
     "output_type": "stream",
     "text": [
      "[[432.94 431.23]\n",
      " [464.07 460.01]\n",
      " [467.59 461.14]\n",
      " ...\n",
      " [474.82 473.26]\n",
      " [441.55 438.  ]\n",
      " [460.79 463.28]]\n"
     ]
    }
   ],
   "source": [
    "Y_pred = ann.predict(X_test)\n",
    "np.set_printoptions(precision=2)\n",
    "print(np.concatenate((Y_pred.reshape(len(Y_pred),1), Y_test.reshape(len(Y_test),1)),1))"
   ]
  },
  {
   "cell_type": "markdown",
   "metadata": {
    "colab_type": "text",
    "id": "_auh3gjE7-D8"
   },
   "source": [
    "### Calculating the Root Mean Square Error "
   ]
  },
  {
   "cell_type": "code",
   "execution_count": 14,
   "metadata": {
    "colab": {
     "base_uri": "https://localhost:8080/",
     "height": 34
    },
    "colab_type": "code",
    "id": "bJ2ny0m879Ya",
    "outputId": "5621c7df-8ea1-479f-dbe6-2e1d66b21042"
   },
   "outputs": [
    {
     "name": "stdout",
     "output_type": "stream",
     "text": [
      "27.46630520746933\n"
     ]
    }
   ],
   "source": [
    "from sklearn.metrics import mean_squared_error\n",
    "error=mean_squared_error(Y_pred,Y_test)\n",
    "print(error)"
   ]
  },
  {
   "cell_type": "markdown",
   "metadata": {
    "colab_type": "text",
    "id": "x6i6e0xN9wxt"
   },
   "source": [
    "# Multiple Linear Regression"
   ]
  },
  {
   "cell_type": "code",
   "execution_count": 15,
   "metadata": {
    "colab": {
     "base_uri": "https://localhost:8080/",
     "height": 34
    },
    "colab_type": "code",
    "id": "WsYsjCib9xBP",
    "outputId": "9868f07e-cda6-41c2-ab78-2af4c3138a8f"
   },
   "outputs": [
    {
     "data": {
      "text/plain": [
       "LinearRegression(copy_X=True, fit_intercept=True, n_jobs=None, normalize=False)"
      ]
     },
     "execution_count": 15,
     "metadata": {
      "tags": []
     },
     "output_type": "execute_result"
    }
   ],
   "source": [
    "from sklearn.linear_model import LinearRegression\n",
    "regression=LinearRegression()\n",
    "regression.fit(X_train,Y_train)"
   ]
  },
  {
   "cell_type": "markdown",
   "metadata": {
    "colab_type": "text",
    "id": "XeCH679a9xJ_"
   },
   "source": [
    "## Predicting the output for test set"
   ]
  },
  {
   "cell_type": "code",
   "execution_count": 16,
   "metadata": {
    "colab": {
     "base_uri": "https://localhost:8080/",
     "height": 136
    },
    "colab_type": "code",
    "id": "qTRbWAHQ9xSV",
    "outputId": "d6e9b054-db49-4d8b-d1d0-fdbef67dfef2"
   },
   "outputs": [
    {
     "name": "stdout",
     "output_type": "stream",
     "text": [
      "[[431.43 431.23]\n",
      " [458.56 460.01]\n",
      " [462.75 461.14]\n",
      " ...\n",
      " [469.52 473.26]\n",
      " [442.42 438.  ]\n",
      " [461.88 463.28]]\n"
     ]
    }
   ],
   "source": [
    "Y_lin_pred=regression.predict(X_test)\n",
    "np.set_printoptions(precision=2)\n",
    "print(np.concatenate((Y_lin_pred.reshape(len(Y_lin_pred),1), Y_test.reshape(len(Y_test),1)),1))\n"
   ]
  },
  {
   "cell_type": "markdown",
   "metadata": {
    "colab_type": "text",
    "id": "GaUvqaBuC5V1"
   },
   "source": [
    "## Mean Square Error"
   ]
  },
  {
   "cell_type": "code",
   "execution_count": 17,
   "metadata": {
    "colab": {
     "base_uri": "https://localhost:8080/",
     "height": 34
    },
    "colab_type": "code",
    "id": "odd58sGDCr44",
    "outputId": "699d8284-13e9-488f-d466-13e92d3c7fbe"
   },
   "outputs": [
    {
     "name": "stdout",
     "output_type": "stream",
     "text": [
      "19.733699303497648\n"
     ]
    }
   ],
   "source": [
    "error_lin=mean_squared_error(Y_test,Y_lin_pred)\n",
    "print(error_lin)"
   ]
  },
  {
   "cell_type": "code",
   "execution_count": 0,
   "metadata": {
    "colab": {},
    "colab_type": "code",
    "id": "1WS2JHePDMX8"
   },
   "outputs": [],
   "source": []
  }
 ],
 "metadata": {
  "colab": {
   "collapsed_sections": [],
   "name": "Artificial Neural Network",
   "provenance": [],
   "toc_visible": true
  },
  "kernelspec": {
   "display_name": "Python 3",
   "language": "python",
   "name": "python3"
  },
  "language_info": {
   "codemirror_mode": {
    "name": "ipython",
    "version": 3
   },
   "file_extension": ".py",
   "mimetype": "text/x-python",
   "name": "python",
   "nbconvert_exporter": "python",
   "pygments_lexer": "ipython3",
   "version": "3.7.6"
  }
 },
 "nbformat": 4,
 "nbformat_minor": 1
}
