{
  "nbformat": 4,
  "nbformat_minor": 0,
  "metadata": {
    "colab": {
      "name": "Upper_confidence_bound.ipynb",
      "provenance": [],
      "collapsed_sections": [],
      "toc_visible": true
    },
    "kernelspec": {
      "name": "python3",
      "display_name": "Python 3"
    }
  },
  "cells": [
    {
      "cell_type": "markdown",
      "metadata": {
        "id": "QJdrJJQUv3-k",
        "colab_type": "text"
      },
      "source": [
        "# Upper Confidence Bound (UCB)"
      ]
    },
    {
      "cell_type": "markdown",
      "metadata": {
        "id": "2XCjepjJwEv-",
        "colab_type": "text"
      },
      "source": [
        "## Importing the libraries"
      ]
    },
    {
      "cell_type": "code",
      "metadata": {
        "id": "pRejt5p6r-t3",
        "colab_type": "code",
        "colab": {}
      },
      "source": [
        "import numpy as np\n",
        "import pandas as pd\n",
        "import matplotlib.pyplot as plt "
      ],
      "execution_count": 0,
      "outputs": []
    },
    {
      "cell_type": "markdown",
      "metadata": {
        "id": "npqlXjaNwYTv",
        "colab_type": "text"
      },
      "source": [
        "## Importing the dataset"
      ]
    },
    {
      "cell_type": "code",
      "metadata": {
        "id": "wCQfgbM_tEhP",
        "colab_type": "code",
        "colab": {}
      },
      "source": [
        "dataset=pd.read_csv('Ads_CTR_Optimisation.csv')"
      ],
      "execution_count": 0,
      "outputs": []
    },
    {
      "cell_type": "markdown",
      "metadata": {
        "id": "PaSbots_wfoB",
        "colab_type": "text"
      },
      "source": [
        "## Implementing UCB"
      ]
    },
    {
      "cell_type": "code",
      "metadata": {
        "id": "yBjpbNeutpbZ",
        "colab_type": "code",
        "colab": {
          "base_uri": "https://localhost:8080/",
          "height": 68
        },
        "outputId": "6eaf7260-0f33-4f5d-d83f-26d32d89a668"
      },
      "source": [
        "import math\n",
        "N=1000\n",
        "d=10\n",
        "ads_selected=[]\n",
        "number_of_selection=[0]*d\n",
        "sum_of_rewards=[0]*d\n",
        "total_reward=0\n",
        "\n",
        "ads_selected.clear()\n",
        "for n in range(0,N):\n",
        "    ad=0\n",
        "    max_upper_bound=0\n",
        "    for i in range(0,d):\n",
        "       if(number_of_selection[i]>0):\n",
        "           avg_reward=sum_of_rewards[i]/number_of_selection[i]\n",
        "           delta_i=math.sqrt((3/2) * (math.log(n+1)/number_of_selection[i]))\n",
        "           upper_bound=avg_reward + delta_i\n",
        "       else:\n",
        "           upper_bound=1e400\n",
        "\n",
        "       if(upper_bound>max_upper_bound):\n",
        "           max_upper_bound=upper_bound\n",
        "           ad=i\n",
        "\n",
        "    ads_selected.append(ad)\n",
        "    number_of_selection[ad]=number_of_selection[ad]+1\n",
        "    reward=dataset.values[n,ad]\n",
        "    sum_of_rewards[ad] = sum_of_rewards[ad] + reward\n",
        "    total_reward=total_reward + reward\n",
        "\n",
        "print(number_of_selection)\n",
        "print(sum_of_rewards)\n",
        "print(total_reward)\n"
      ],
      "execution_count": 5,
      "outputs": [
        {
          "output_type": "stream",
          "text": [
            "[109, 79, 53, 68, 287, 53, 86, 140, 64, 61]\n",
            "[17, 8, 1, 5, 79, 1, 10, 27, 4, 3]\n",
            "155\n"
          ],
          "name": "stdout"
        }
      ]
    },
    {
      "cell_type": "markdown",
      "metadata": {
        "id": "AXftWcjDwsYj",
        "colab_type": "text"
      },
      "source": [
        "## Visualising the results"
      ]
    },
    {
      "cell_type": "code",
      "metadata": {
        "id": "p8KyP3bUL2F-",
        "colab_type": "code",
        "colab": {
          "base_uri": "https://localhost:8080/",
          "height": 268
        },
        "outputId": "1e45a34e-1a94-4b24-c27c-7ac7f1bfd94d"
      },
      "source": [
        "plt.hist(ads_selected)\n",
        "plt.show()"
      ],
      "execution_count": 6,
      "outputs": [
        {
          "output_type": "display_data",
          "data": {
            "image/png": "[encoded data removed]",
            "text/plain": [
              "<Figure size 432x288 with 1 Axes>"
            ]
          },
          "metadata": {
            "tags": [],
            "needs_background": "light"
          }
        }
      ]
    }
  ]
}